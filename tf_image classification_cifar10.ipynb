{
 "cells": [
  {
   "cell_type": "code",
   "execution_count": 4,
   "metadata": {},
   "outputs": [],
   "source": [
    "%matplotlib inline\n",
    "import matplotlib\n",
    "import seaborn as sns\n",
    "sns.set()\n",
    "matplotlib.rcParams['figure.dpi'] = 144"
   ]
  },
  {
   "cell_type": "code",
   "execution_count": 2,
   "metadata": {},
   "outputs": [
    {
     "data": {
      "text/plain": [
       "0"
      ]
     },
     "execution_count": 2,
     "metadata": {},
     "output_type": "execute_result"
    }
   ],
   "source": [
    "import gc\n",
    "gc.collect()"
   ]
  },
  {
   "cell_type": "markdown",
   "metadata": {},
   "source": [
    "# Project: Image Classification with TensorFlow"
   ]
  },
  {
   "cell_type": "markdown",
   "metadata": {},
   "source": [
    "### Objective\n",
    "This project focuses on building a series of models to classify a series of images into one of ten classes. These images are pretty small ($32\\times32\\times3$).  This can make classification a bit tricky&mdash;human performance is only about 94%.\n",
    "\n",
    "### Data\n",
    "CIFAR-10 data set will be used in the project. \n",
    "* Size: 60,000 images, (Train: 50,000, Test: 10,000)\n",
    "* The image is in 32×32  color pixels, each belongs to one of the Ten classes\n",
    "* Data are in NumPy's .npy format.\n",
    "\n",
    "### Classification models\n",
    "\n",
    "1. Smallest Delta Model\n",
    "2. Fully-connected NN model\n",
    "3. Convolutional NN model\n",
    "4. Transfer learning NN model\n",
    "\n",
    "### Model validation\n",
    "\n",
    "The validation of this project is using a set of reference models to score the test data accuracy. \n",
    "**The accuracy of model prediction = Score * reference model accuracy**\n",
    "\n",
    "Reference model accuracy:\n",
    "Smallest Delta Model: reference solution achieves an accuracy of about 44% on a training set and 41% on a test set. \n",
    "Fully-connected NN model： train set - 44% on a test set - 41%\n",
    "Convolutional NN model:  train set - 80% on a test set - 70%\n",
    "Transfer learning NN model:  train set - 87% on a test set - 85%\n"
   ]
  },
  {
   "cell_type": "code",
   "execution_count": 7,
   "metadata": {},
   "outputs": [
    {
     "data": {
      "image/png": "[encoded data removed]",
      "text/plain": [
       "<Figure size 432x288 with 4 Axes>"
      ]
     },
     "metadata": {},
     "output_type": "display_data"
    }
   ],
   "source": [
    "frogs = np.where(train_labels == 6)[0]   #  Get the indices for the frogs\n",
    "\n",
    "fig, ax = matplotlib.pyplot.subplots(2, 2)\n",
    "for i in range(4):\n",
    "    np.ravel(ax)[i].imshow(train_images[ frogs[i] ])\n",
    "\n",
    "matplotlib.pyplot.show()"
   ]
  },
  {
   "cell_type": "markdown",
   "metadata": {},
   "source": [
    "## Access the data"
   ]
  },
  {
   "cell_type": "code",
   "execution_count": 8,
   "metadata": {},
   "outputs": [],
   "source": [
    "!aws s3 sync s3://dataincubator-course/cifar10/ ."
   ]
  },
  {
   "cell_type": "code",
   "execution_count": 6,
   "metadata": {},
   "outputs": [],
   "source": [
    "import numpy as np\n",
    "\n",
    "train_images = np.load(open('train_images.npy', 'rb'))\n",
    "train_labels = np.load(open('train_labels.npy', 'rb'))\n",
    "validation_images = np.load(open('validation_images.npy', 'rb'))"
   ]
  },
  {
   "cell_type": "markdown",
   "metadata": {},
   "source": [
    "The images are stored as four-dimensional arrays.  The first index indicates the image number, the second and third the $x$ and $y$ positions, and the fourth index the color channel.  Each pixel color is a floating point number between 0 and 1.\n",
    "\n",
    "The classes have already been numbered 0-9 for us; those numbers are stored in the vector `train_labels`."
   ]
  },
  {
   "cell_type": "markdown",
   "metadata": {},
   "source": [
    "The human-readable names associated with this classes are"
   ]
  },
  {
   "cell_type": "code",
   "execution_count": 5,
   "metadata": {},
   "outputs": [],
   "source": [
    "label_names = ['airplane', 'automobile', 'bird', 'cat', 'deer',\n",
    "               'dog', 'frog', 'horse', 'ship', 'truck']"
   ]
  },
  {
   "cell_type": "code",
   "execution_count": 170,
   "metadata": {},
   "outputs": [
    {
     "data": {
      "text/plain": [
       "((50000,), (50000, 32, 32, 3), (10000, 32, 32, 3))"
      ]
     },
     "execution_count": 170,
     "metadata": {},
     "output_type": "execute_result"
    }
   ],
   "source": [
    "train_labels.shape, train_images.shape,validation_images.shape"
   ]
  },
  {
   "cell_type": "markdown",
   "metadata": {},
   "source": [
    "## TensorFlow resets"
   ]
  },
  {
   "cell_type": "markdown",
   "metadata": {},
   "source": [
    "The cell below includes the same reset code we use in the rest of module."
   ]
  },
  {
   "cell_type": "code",
   "execution_count": 7,
   "metadata": {},
   "outputs": [],
   "source": [
    "import tensorflow as tf\n",
    "\n",
    "sess = None\n",
    "\n",
    "def reset_tf():\n",
    "    global sess\n",
    "    if sess:\n",
    "        sess.close()\n",
    "    tf.reset_default_graph()\n",
    "    sess = tf.Session()\n",
    "\n",
    "def reset_vars():\n",
    "    sess.run(tf.global_variables_initializer())\n",
    "    \n",
    "reset_tf()"
   ]
  },
  {
   "cell_type": "markdown",
   "metadata": {},
   "source": [
    "## Analysis"
   ]
  },
  {
   "cell_type": "markdown",
   "metadata": {},
   "source": [
    "### 1. Perceptual RGB distance model"
   ]
  },
  {
   "cell_type": "markdown",
   "metadata": {},
   "source": [
    "To start with a simple model, since we have a number of labeled images, a simple approach would be to measure the difference between two images, and choose the label corresponding to nearby images.  A simplified metric to determine the distance between two images.  is the **average difference between the colors of the corresponding pixels** in the two images.\n",
    "\n",
    "\n",
    "$$\\Delta C \\equiv \\sqrt{2 \\Delta R^2 + 4 \\Delta G^2 + 3 \\Delta B^2 + \\bar R\\left(\\Delta R^2 - \\Delta B^2 \\right)} $$\n",
    "where $(R_1, G_1, B_1)$ and $(R_2, G_2, B_2)$ are the RGB components of the two colors and\n",
    "$$\\begin{align}\n",
    "\\Delta R &= R_1 - R_2 \\\\\n",
    "\\Delta G &= G_1 - G_2 \\\\\n",
    "\\Delta B &= B_1 - B_2 \\\\\n",
    "\\bar R &= \\textstyle\\frac{1}{2}\\left(R_1 + R_2\\right)\n",
    "\\end{align}$$\n",
    "\n",
    "This accounts for the fact that our eyes are most sensitive to green and least sensitive to red, and that perception is not constant with hue.\n"
   ]
  },
  {
   "cell_type": "markdown",
   "metadata": {},
   "source": [
    "#### Delta function"
   ]
  },
  {
   "cell_type": "markdown",
   "metadata": {},
   "source": [
    "Define the TensorFlow placeholders `images` and `base` that will contain, respectively, a set of images and a single image. \n",
    "\n",
    "Use Use the `delta_func` to define a graph that takes a series of images and a base image and returns the distance (the average $\\Delta C$ value) between the base image and each image in the series. \n",
    "\n",
    "For two images, $I_1$ and $I_2$, we define the distance between $I_1$ and $I_2$ as the average $\\Delta C$ value over the whole image, that is:\n",
    "\n",
    "$$d(I_1, I_2) = \\frac{1}{N}\\sum_{p_j} \\Delta C(p_j)$$\n",
    "where the sum is over all pixels $p_j$, $\\Delta C(p_2)$ is the $\\Delta C$ value for the pixel $p_j$, and $N$ is the total number of pixels in each image ($N= 32\\times 32$ in our case).  "
   ]
  },
  {
   "cell_type": "code",
   "execution_count": 7,
   "metadata": {},
   "outputs": [],
   "source": [
    "def delta_func(images, base): ## base is a tf.placeholder\n",
    "    \n",
    "    d_r = images[:,:,:,0] - base[:,:,0]\n",
    "    d_g = images[:,:,:,1] - base[:,:,1]\n",
    "    d_b = images[:,:,:,2] - base[:,:,2]\n",
    "    mean_r = 1/2 * (images[:,:,:,0] + base[:,:,0])\n",
    "    d_c = tf.sqrt(2*d_r**2 + 4*d_g**2 + 3*d_b**2 + mean_r*(d_r**2 - d_b**2))\n",
    "    \n",
    "    return d_c ## return a tensor"
   ]
  },
  {
   "cell_type": "code",
   "execution_count": 8,
   "metadata": {},
   "outputs": [],
   "source": [
    "def delta_func_np(images, base): ## input all image matrix\n",
    "    \n",
    "    d_r = images[:,:,:,0] - base[:,:,0]\n",
    "    d_g = images[:,:,:,1] - base[:,:,1]\n",
    "    d_b = images[:,:,:,2] - base[:,:,2]\n",
    "    mean_r = 1/2 * (images[:,:,:,0] + base[:,:,0])\n",
    "    d_c = np.sqrt(2*d_r**2 + 4*d_g**2 + 3*d_b**2 + mean_r*(d_r**2 - d_b**2))\n",
    "    \n",
    "    return d_c ## return a numpy array"
   ]
  },
  {
   "cell_type": "markdown",
   "metadata": {},
   "source": [
    "#### Smallest delta model"
   ]
  },
  {
   "cell_type": "markdown",
   "metadata": {},
   "source": [
    "**Problem**\n",
    "A \"typical\" image was generated for each class.  This typical image will be the one that minimizes the total (or average) perceptual delta from all training images in this class.  As a minimization problem, gradient descent was used.  \n",
    "\n",
    "* First Step: train a typical image for each class in the training set\n",
    "* Second Step: Make predictions on the validation set. These predictions will be based on the closest \"typical\" image trained in the first step."
   ]
  },
  {
   "cell_type": "markdown",
   "metadata": {},
   "source": [
    "**Method**\n",
    "\n",
    "* The typical image for each class was made as a TensorFlow variable, starting with random pixel values.  \n",
    "* Define an error function that measures the difference between that typical image and a set of images. \n",
    "* Performing gradient descent to train the typical image."
   ]
  },
  {
   "cell_type": "code",
   "execution_count": 9,
   "metadata": {},
   "outputs": [
    {
     "data": {
      "text/plain": [
       "<matplotlib.image.AxesImage at 0x7f7982f69dd8>"
      ]
     },
     "execution_count": 9,
     "metadata": {},
     "output_type": "execute_result"
    },
    {
     "data": {
      "image/png": "[encoded data removed]",
      "text/plain": [
       "<Figure size 432x288 with 1 Axes>"
      ]
     },
     "metadata": {},
     "output_type": "display_data"
    }
   ],
   "source": [
    "## Example of a typical image (classification: frog)\n",
    "matplotlib.pyplot.imshow(np.load('typical_6.npy'))"
   ]
  },
  {
   "cell_type": "markdown",
   "metadata": {},
   "source": [
    "Performing a batched version of __stochastic gradient descent__.  since the training set consists of 5,000 images\n"
   ]
  },
  {
   "cell_type": "code",
   "execution_count": 170,
   "metadata": {},
   "outputs": [],
   "source": [
    "typical_image = []\n",
    "typical = tf.Variable(tf.random_normal([32, 32, 3], mean = 0, stddev=0.5),name=\"typical\")\n",
    "\n",
    "x = tf.placeholder(dtype=tf.float32, shape=(None,32, 32, 3))\n",
    "\n",
    "init = tf.initializers.global_variables()\n",
    "\n",
    "for i in range(10):\n",
    "\n",
    "    sess.run(init)\n",
    "\n",
    "    x_train = train_images[train_labels==i]\n",
    "    error = tf.reduce_mean(delta_func(x_train,typical))\n",
    "\n",
    "    optimizer = tf.train.GradientDescentOptimizer(0.5)\n",
    "    train = optimizer.minimize(error)\n",
    "\n",
    "    batch_size = 100\n",
    "    steps_total = 4000\n",
    "\n",
    "    for i in range(steps_total):\n",
    "        j = np.random.choice(len(x_train), batch_size, replace=False)\n",
    "\n",
    "        x_batch = x_train[j,:]\n",
    "\n",
    "        sess.run(train, feed_dict={x: x_batch})\n",
    "\n",
    "    typical_image.append(sess.run(typical))\n"
   ]
  },
  {
   "cell_type": "code",
   "execution_count": 178,
   "metadata": {},
   "outputs": [],
   "source": [
    "np.save('typical_image.npy',typical_image)"
   ]
  },
  {
   "cell_type": "code",
   "execution_count": 11,
   "metadata": {},
   "outputs": [],
   "source": [
    "typical_image = np.load(open('typical_image.npy', 'rb'))"
   ]
  },
  {
   "cell_type": "code",
   "execution_count": 39,
   "metadata": {},
   "outputs": [],
   "source": [
    "test_dist = np.zeros([10000,10])\n",
    "for i in range(len(typical_image)):\n",
    "    test_dist[:,i] = np.nansum(delta_func_np(validation_images,typical_image[i]),axis=(1,2))"
   ]
  },
  {
   "cell_type": "code",
   "execution_count": 10,
   "metadata": {},
   "outputs": [],
   "source": [
    "test_dist = np.load(open('test_dist.npy', 'rb'))"
   ]
  },
  {
   "cell_type": "code",
   "execution_count": 39,
   "metadata": {},
   "outputs": [],
   "source": [
    "delta_pred = list(np.argmin(test_dist,axis=1))"
   ]
  },
  {
   "cell_type": "code",
   "execution_count": 11,
   "metadata": {},
   "outputs": [
    {
     "data": {
      "text/plain": [
       "<matplotlib.image.AxesImage at 0x7f829202f9b0>"
      ]
     },
     "execution_count": 11,
     "metadata": {},
     "output_type": "execute_result"
    },
    {
     "data": {
      "image/png": "[encoded data removed]",
      "text/plain": [
       "<Figure size 432x288 with 1 Axes>"
      ]
     },
     "metadata": {},
     "output_type": "display_data"
    }
   ],
   "source": [
    "matplotlib.pyplot.imshow(typical_image[6].clip(min=0,max=1))"
   ]
  },
  {
   "cell_type": "code",
   "execution_count": 47,
   "metadata": {},
   "outputs": [],
   "source": [
    "from static_grader import grader"
   ]
  },
  {
   "cell_type": "code",
   "execution_count": 48,
   "metadata": {},
   "outputs": [
    {
     "name": "stdout",
     "output_type": "stream",
     "text": [
      "==================\n",
      "Your score:  1.0042849491162291\n",
      "==================\n"
     ]
    }
   ],
   "source": [
    "grader.score('tf__smallest_delta', list(np.argmin(test_dist,axis=1)))"
   ]
  },
  {
   "cell_type": "markdown",
   "metadata": {},
   "source": [
    "### 2. Fully-connected model"
   ]
  },
  {
   "cell_type": "markdown",
   "metadata": {},
   "source": [
    "The previous model still makes the assumption that this distance metric is the right measure to use.  In this problem, we'll give this up.  Build a multi-layer fully-connected neural network that takes the pixel values as input and yields a class prediction as output.\n",
    "\n",
    "**Hints:**\n",
    "- We found that adding more layers didn't help too much.\n",
    "- Watch out for over-fitting.  Drop-out can help with this.\n",
    "- The reference solution achieves an accuracy of about 44% on a training set and 41% on a test set."
   ]
  },
  {
   "cell_type": "code",
   "execution_count": 123,
   "metadata": {},
   "outputs": [],
   "source": [
    "X_train, y_train = train_images,train_labels\n",
    "X_test = validation_images"
   ]
  },
  {
   "cell_type": "code",
   "execution_count": 125,
   "metadata": {},
   "outputs": [],
   "source": [
    "N_PIXELS= 32 * 32 * 3\n",
    "N_CLASSES = 10\n",
    "\n",
    "hidden_size = 64"
   ]
  },
  {
   "cell_type": "code",
   "execution_count": 156,
   "metadata": {},
   "outputs": [
    {
     "name": "stdout",
     "output_type": "stream",
     "text": [
      "Train: 2.34145, 0.10000   at step 00000\n",
      "Train: 1.85630, 0.33560   at step 01000\n",
      "Train: 1.75656, 0.37274   at step 02000\n",
      "Train: 1.72151, 0.38252   at step 03000\n",
      "Train: 1.66950, 0.40328   at step 04000\n",
      "Train: 1.64761, 0.40578   at step 05000\n",
      "Train: 1.56958, 0.44196   at step 06000\n",
      "Train: 1.55093, 0.44794   at step 07000\n",
      "Train: 1.54313, 0.45420   at step 08000\n",
      "Train: 1.54331, 0.44906   at step 09000\n",
      "Train: 1.48483, 0.46988   at step 09999\n"
     ]
    }
   ],
   "source": [
    "reset_tf()\n",
    "\n",
    "x = tf.placeholder(tf.float32, [None, 32,32,3], name=\"pixels\")\n",
    "\n",
    "x_input = tf.reshape(x,[-1,3072])\n",
    "y_label = tf.placeholder(tf.int64, [None,], name=\"labels\")\n",
    "\n",
    "W1 = tf.Variable(initializer([N_PIXELS, hidden_size]), name=\"weights\")\n",
    "b1 = tf.Variable(tf.zeros([hidden_size]), name=\"biases\")\n",
    "\n",
    "hidden = tf.nn.sigmoid(tf.matmul(x_input, W1) + b1)\n",
    "\n",
    "W2 = tf.Variable(initializer([hidden_size, N_CLASSES]), name=\"weights2\")\n",
    "b2 = tf.Variable(tf.zeros([N_CLASSES]), name=\"biases2\")\n",
    "\n",
    "y = tf.matmul(hidden, W2) + b2\n",
    "\n",
    "softmax = tf.nn.softmax_cross_entropy_with_logits_v2\n",
    "loss = tf.reduce_mean(softmax(logits=y, \n",
    "                              labels=tf.one_hot(y_label, 10)))\n",
    "train = tf.train.GradientDescentOptimizer(0.1).minimize(loss)\n",
    "accuracy = tf.reduce_mean(tf.cast(tf.equal(tf.argmax(y, 1), y_label), tf.float32))\n",
    "\n",
    "batch_size  = 30\n",
    "steps_total = 10000\n",
    "steps_print = 1000\n",
    "\n",
    "reset_vars()\n",
    "\n",
    "for i in range(steps_total):\n",
    "    j = np.random.choice(len(y_train), batch_size, replace=False)\n",
    "    x_batch, y_batch = X_train[j,:], y_train[j]\n",
    "    \n",
    "    sess.run(train, feed_dict={x: x_batch, \n",
    "                               y_label: y_batch})\n",
    "    \n",
    "    if i % steps_print == 0 or i == steps_total - 1:\n",
    "#         l, a = sess.run([loss, accuracy], feed_dict={x: X_test,\n",
    "#                                                      y_label: y_test})\n",
    "#         print(\"Test:  %0.5f, %0.5f   at step %05i\" % (l, a, i))\n",
    "        l, a = sess.run([loss, accuracy], feed_dict={x: X_train,\n",
    "                                                     y_label: y_train})\n",
    "        print(\"Train: %0.5f, %0.5f   at step %05i\" % (l, a, i))"
   ]
  },
  {
   "cell_type": "code",
   "execution_count": 159,
   "metadata": {},
   "outputs": [],
   "source": [
    "y_test = sess.run(y,feed_dict = {x:X_test})"
   ]
  },
  {
   "cell_type": "code",
   "execution_count": 166,
   "metadata": {},
   "outputs": [
    {
     "data": {
      "text/plain": [
       "array([5, 0, 2, ..., 9, 4, 3])"
      ]
     },
     "execution_count": 166,
     "metadata": {},
     "output_type": "execute_result"
    }
   ],
   "source": [
    "np.argmax(y_test,axis=1)"
   ]
  },
  {
   "cell_type": "code",
   "execution_count": 168,
   "metadata": {},
   "outputs": [
    {
     "name": "stdout",
     "output_type": "stream",
     "text": [
      "==================\n",
      "Your score:  1.1135152085293196\n",
      "==================\n"
     ]
    }
   ],
   "source": [
    "grader.score('tf__fully_connected', list(np.argmax(y_test,axis=1)))"
   ]
  },
  {
   "cell_type": "markdown",
   "metadata": {},
   "source": [
    "### 3. Convolutional model"
   ]
  },
  {
   "cell_type": "markdown",
   "metadata": {},
   "source": [
    "Convolutional neural networks have had a lot of success in image classification.  Build a neural network with convolutional layers to improve the performance.\n",
    "\n",
    "**Note:**\n",
    "- The solution used three convolutional layers and two fully-connected layers.\n",
    "- The solution used the `AdamOptimizer`.\n",
    "- A solution with an accuracy of 80% on a training set and 70% on a test set was regarded as a reference. The grading score > 1 indicates the test accuracy is higher than 70%"
   ]
  },
  {
   "cell_type": "code",
   "execution_count": 108,
   "metadata": {},
   "outputs": [],
   "source": [
    "from tensorflow import keras\n",
    "from tensorflow.keras.utils import to_categorical as one_hot"
   ]
  },
  {
   "cell_type": "code",
   "execution_count": 268,
   "metadata": {},
   "outputs": [],
   "source": [
    "X_train = train_images\n",
    "y_train = one_hot(train_labels)\n",
    "X_test = validation_images"
   ]
  },
  {
   "cell_type": "code",
   "execution_count": 269,
   "metadata": {},
   "outputs": [
    {
     "data": {
      "text/plain": [
       "((50000, 32, 32, 3), (50000, 10), (10000, 32, 32, 3))"
      ]
     },
     "execution_count": 269,
     "metadata": {},
     "output_type": "execute_result"
    }
   ],
   "source": [
    "X_train.shape,y_train.shape,X_test.shape"
   ]
  },
  {
   "cell_type": "code",
   "execution_count": 272,
   "metadata": {},
   "outputs": [],
   "source": [
    "N_PIXELS= 32 * 32 * 3\n",
    "N_CLASSES = 10\n",
    "hidden_size = 64"
   ]
  },
  {
   "cell_type": "code",
   "execution_count": 298,
   "metadata": {},
   "outputs": [],
   "source": [
    "# Model parameters\n",
    "img_size = 32\n",
    "img_size_flat = img_size * img_size\n",
    "img_shape = (img_size, img_size)\n",
    "\n",
    "n_classes = 10\n",
    "n_channels = 3\n",
    "filt_size = [5, 5] # 5x5 pixel filters\n",
    "\n",
    "batch_size = 50\n",
    "n_epochs = 5"
   ]
  },
  {
   "cell_type": "code",
   "execution_count": 306,
   "metadata": {},
   "outputs": [],
   "source": [
    "model = keras.models.Sequential()\n",
    "\n",
    "## reshape layer\n",
    "\n",
    "model.add(keras.layers.Reshape([img_size, img_size, 3]))\n",
    "\n",
    "## convolution layer 1\n",
    "model.add(keras.layers.Conv2D(16, filt_size, padding='same',\n",
    "                            activation='relu'))\n",
    "## followed by a max pooling\n",
    "model.add(keras.layers.MaxPooling2D(pool_size=(2, 2), strides=(2,2),\n",
    "                                    padding='same'))\n",
    "## convolution layer 2\n",
    "model.add(keras.layers.Conv2D(32, filt_size, padding='same',\n",
    "                              activation='relu'))\n",
    "## followed by a max pooling\n",
    "model.add(keras.layers.MaxPooling2D(pool_size=(2, 2), strides=(2,2),\n",
    "                                    padding='same'))\n",
    "\n",
    "## convolution layer 3\n",
    "model.add(keras.layers.Conv2D(64, filt_size, padding='same',\n",
    "                              activation='relu'))\n",
    "## followed by a max pooling\n",
    "model.add(keras.layers.MaxPooling2D(pool_size=(2, 2), strides=(2,2),\n",
    "                                    padding='same'))\n",
    "\n",
    "## flatten layer\n",
    "model.add(keras.layers.Flatten())\n",
    "\n",
    "## full-connected layer 1\n",
    "model.add(keras.layers.Dense(100, activation='relu'))\n",
    "\n",
    "## full-connected layer 2\n",
    "model.add(keras.layers.Dense(100, activation='relu'))\n",
    "\n",
    "## output layer\n",
    "model.add(keras.layers.Dense(N_CLASSES, activation='softmax'))"
   ]
  },
  {
   "cell_type": "code",
   "execution_count": 309,
   "metadata": {},
   "outputs": [
    {
     "name": "stdout",
     "output_type": "stream",
     "text": [
      "Train on 50000 samples, validate on 10000 samples\n",
      "Epoch 1/5\n",
      "50000/50000 [==============================] - 45s 900us/step - loss: 1.4985 - acc: 0.4522 - val_loss: 1.2772 - val_acc: 0.5921\n",
      "Epoch 2/5\n",
      "50000/50000 [==============================] - 45s 891us/step - loss: 1.0827 - acc: 0.6159 - val_loss: 1.2030 - val_acc: 0.6424\n",
      "Epoch 3/5\n",
      "50000/50000 [==============================] - 44s 888us/step - loss: 0.9145 - acc: 0.6790 - val_loss: 1.2346 - val_acc: 0.6432\n",
      "Epoch 4/5\n",
      "50000/50000 [==============================] - 44s 872us/step - loss: 0.7957 - acc: 0.7207 - val_loss: 1.2090 - val_acc: 0.6849\n",
      "Epoch 5/5\n",
      "50000/50000 [==============================] - 44s 889us/step - loss: 0.7111 - acc: 0.7512 - val_loss: 1.2327 - val_acc: 0.6774\n"
     ]
    }
   ],
   "source": [
    "model.compile(loss='categorical_crossentropy',\n",
    "              optimizer=keras.optimizers.Adam(lr=0.001, beta_1=0.9, beta_2=0.999, epsilon=1e-08, decay=0.0, amsgrad=False),\n",
    "              metrics=['accuracy'])\n",
    "\n",
    "history = model.fit(X_train, y_train,\n",
    "                    epochs=n_epochs,\n",
    "                    batch_size=batch_size,\n",
    "                    validation_data=(X_test,y_test))"
   ]
  },
  {
   "cell_type": "code",
   "execution_count": null,
   "metadata": {},
   "outputs": [],
   "source": [
    "def predict(x):\n",
    "    return np.argmax(model.predict(x)) "
   ]
  },
  {
   "cell_type": "code",
   "execution_count": 310,
   "metadata": {},
   "outputs": [],
   "source": [
    "y_test = model.predict(X_test)"
   ]
  },
  {
   "cell_type": "code",
   "execution_count": 311,
   "metadata": {},
   "outputs": [
    {
     "data": {
      "text/plain": [
       "array([7, 7, 5, ..., 9, 4, 3])"
      ]
     },
     "execution_count": 311,
     "metadata": {},
     "output_type": "execute_result"
    }
   ],
   "source": [
    "y_test = model.predict(X_test)\n",
    "np.argmax(y_test,axis=1)"
   ]
  },
  {
   "cell_type": "code",
   "execution_count": 312,
   "metadata": {},
   "outputs": [
    {
     "name": "stdout",
     "output_type": "stream",
     "text": [
      "==================\n",
      "Your score:  0.9729335494327391\n",
      "==================\n"
     ]
    }
   ],
   "source": [
    "# predicted_classes = return [0]*len(validation_images)\n",
    "\n",
    "grader.score('tf__convolutional', list(np.argmax(y_test,axis=1)))"
   ]
  },
  {
   "cell_type": "markdown",
   "metadata": {},
   "source": [
    "### 4. Transfer learning"
   ]
  },
  {
   "cell_type": "markdown",
   "metadata": {},
   "source": [
    "In transfer learning, we use the `GoogLeNet` network to process the image to latent vectors, and use the latent vectors to train the model.\n",
    "\n",
    "Use the first part of the **GoogLeNet** trained network to process the original images, and then train a network to make predictions from the output of the trained network.  \n",
    "\n",
    "* One approach to accomplish this is to connect the new layers to the output of the existing layers.  Data will flow through the pre-trained layers as well as those added.  In the training step, only the new layers should be marked as trainable.\n",
    "\n",
    "* Another approach can be more efficient to pre-calculate the *latent vectors* that are the output of the pre-trained network.  These can be stored and used as input for training a smaller, separate network to make the predictions. ** This approach is used in the analysis**"
   ]
  },
  {
   "cell_type": "code",
   "execution_count": 35,
   "metadata": {},
   "outputs": [],
   "source": [
    "import os\n",
    "from urllib.request import urlopen\n",
    "import zipfile\n",
    "\n",
    "data_url = \"http://storage.googleapis.com/download.tensorflow.org/models/inception5h.zip\"\n",
    "data_dir = os.path.expanduser(\"~/inception/5h/\")\n",
    "file_path = os.path.join(data_dir, 'inception5h.zip')\n",
    "\n",
    "if not os.path.exists(file_path):\n",
    "    # Check if the download directory exists, otherwise create it.\n",
    "    if not os.path.exists(data_dir):\n",
    "        os.makedirs(data_dir)\n",
    "    # Download\n",
    "    with open(file_path, \"wb\") as local_file:\n",
    "        local_file.write(urlopen(data_url).read())\n",
    "    # Extract\n",
    "    zipfile.ZipFile(file_path, mode=\"r\").extractall(data_dir)\n",
    "\n",
    "path = os.path.join(data_dir, \"tensorflow_inception_graph.pb\")\n",
    "with tf.gfile.FastGFile(path, 'rb') as f:\n",
    "    graph_def = tf.GraphDef()\n",
    "    graph_def.ParseFromString(f.read())\n",
    "    tf.import_graph_def(graph_def, name='')"
   ]
  },
  {
   "cell_type": "code",
   "execution_count": 12,
   "metadata": {},
   "outputs": [
    {
     "data": {
      "text/plain": [
       "tensorflow.core.framework.graph_pb2.GraphDef"
      ]
     },
     "execution_count": 12,
     "metadata": {},
     "output_type": "execute_result"
    }
   ],
   "source": [
    "type(graph_def)"
   ]
  },
  {
   "cell_type": "code",
   "execution_count": 36,
   "metadata": {},
   "outputs": [],
   "source": [
    "import scipy as sc\n",
    "import numpy as np\n",
    "import datetime as dt"
   ]
  },
  {
   "cell_type": "code",
   "execution_count": 38,
   "metadata": {},
   "outputs": [
    {
     "data": {
      "text/plain": [
       "<tf.Tensor 'input:0' shape=<unknown> dtype=float32>"
      ]
     },
     "execution_count": 38,
     "metadata": {},
     "output_type": "execute_result"
    }
   ],
   "source": [
    "googlenet_input = sess.graph.get_tensor_by_name(\"input:0\")\n",
    "googlenet_input"
   ]
  },
  {
   "cell_type": "code",
   "execution_count": 39,
   "metadata": {},
   "outputs": [
    {
     "data": {
      "text/plain": [
       "<tf.Tensor 'mixed5b:0' shape=(?, ?, ?, 1024) dtype=float32>"
      ]
     },
     "execution_count": 39,
     "metadata": {},
     "output_type": "execute_result"
    }
   ],
   "source": [
    "layer_mixed5b =  sess.graph.get_tensor_by_name(\"mixed5b:0\")\n",
    "layer_mixed5b"
   ]
  },
  {
   "cell_type": "code",
   "execution_count": 40,
   "metadata": {},
   "outputs": [
    {
     "data": {
      "text/plain": [
       "<tf.Tensor 'avgpool0:0' shape=(?, ?, ?, 1024) dtype=float32>"
      ]
     },
     "execution_count": 40,
     "metadata": {},
     "output_type": "execute_result"
    }
   ],
   "source": [
    "layer_avgpool0 =  sess.graph.get_tensor_by_name(\"avgpool0:0\")\n",
    "layer_avgpool0"
   ]
  },
  {
   "cell_type": "code",
   "execution_count": null,
   "metadata": {},
   "outputs": [],
   "source": [
    "## Function to transform the image to latent vector\n",
    "def latent_transform(input_tensor, output_tensor, images, batch_size):\n",
    "    \n",
    "    steps  = len(images)//batch_size\n",
    "    latent = np.zeros([len(images), 1, 1, 1024])\n",
    "    \n",
    "    for i in range(steps):\n",
    "    \n",
    "    x_batch = images[batch_size*i:batch_size*i+batch_size,:]\n",
    "\n",
    "    latent_batch = sess.run(output_tensor, {input_tensor: sc.ndimage.zoom((x_batch),(1,7,7,1),order=1)}) #*255\n",
    "    latent[batch_size*i:batch_size*i+batch_size,:] = latent_batch\n",
    "    \n",
    "    return latent    "
   ]
  },
  {
   "cell_type": "code",
   "execution_count": 151,
   "metadata": {},
   "outputs": [],
   "source": [
    "## Batch transfer train images to latent vectors\n",
    "batch_size = 50\n",
    "steps_total  = len(train_images)//batch_size\n",
    "latent_vec = np.zeros([len(train_images), 1, 1, 1024])\n",
    "for i in range(steps_total):\n",
    "    \n",
    "    x_batch = train_images[batch_size*i:batch_size*i+batch_size,:]\n",
    "\n",
    "    latent_batch = sess.run(layer_avgpool0, {googlenet_input: sc.ndimage.zoom((x_batch*255),(1,7,7,1),order=1)})\n",
    "    latent_vec[batch_size*i:batch_size*i+batch_size,:] = latent_batch"
   ]
  },
  {
   "cell_type": "code",
   "execution_count": 153,
   "metadata": {},
   "outputs": [],
   "source": [
    "## Batch transfer test images to latent vectors\n",
    "batch_size = 50\n",
    "steps_total  = len(validation_images)//batch_size\n",
    "latent_vec_test = np.zeros([len(validation_images), 1, 1, 1024])\n",
    "for i in range(steps_total):\n",
    "    \n",
    "    x_batch = validation_images[batch_size*i:batch_size*i+batch_size,:]\n",
    "\n",
    "    latent_batch = sess.run(layer_avgpool0, {googlenet_input: sc.ndimage.zoom((x_batch*255),(1,7,7,1),order=1)}) #\n",
    "    latent_vec_test[batch_size*i:batch_size*i+batch_size,:] = latent_batch"
   ]
  },
  {
   "cell_type": "code",
   "execution_count": 154,
   "metadata": {},
   "outputs": [
    {
     "data": {
      "text/plain": [
       "(10000, 1, 1, 1024)"
      ]
     },
     "execution_count": 154,
     "metadata": {},
     "output_type": "execute_result"
    }
   ],
   "source": [
    "latent_vec_test.shape"
   ]
  },
  {
   "cell_type": "code",
   "execution_count": 155,
   "metadata": {},
   "outputs": [],
   "source": [
    "np.save('latent_vec.npy',latent_vec)\n",
    "np.save('latent_vec_test.npy',latent_vec_test)"
   ]
  },
  {
   "cell_type": "markdown",
   "metadata": {},
   "source": [
    "With the latent vectors calculated, we can use them as input to train a small neural network to make the final predictions.\n",
    "\n",
    "**Notes:**\n",
    "- The solution has three layers.\n",
    "- The solution achieves a training accuracy of 87% and a test accuracy of 85%."
   ]
  },
  {
   "cell_type": "code",
   "execution_count": 156,
   "metadata": {},
   "outputs": [],
   "source": [
    "from tensorflow import keras\n",
    "from tensorflow.keras.utils import to_categorical as one_hot"
   ]
  },
  {
   "cell_type": "code",
   "execution_count": 157,
   "metadata": {},
   "outputs": [],
   "source": [
    "X_train = latent_vec\n",
    "y_train = one_hot(train_labels)\n",
    "X_test = latent_vec_test"
   ]
  },
  {
   "cell_type": "code",
   "execution_count": 158,
   "metadata": {},
   "outputs": [
    {
     "data": {
      "text/plain": [
       "((50000, 1, 1, 1024), (50000, 10), (10000, 1, 1, 1024))"
      ]
     },
     "execution_count": 158,
     "metadata": {},
     "output_type": "execute_result"
    }
   ],
   "source": [
    "X_train.shape,y_train.shape,X_test.shape"
   ]
  },
  {
   "cell_type": "code",
   "execution_count": 160,
   "metadata": {},
   "outputs": [],
   "source": [
    "# Model parameters\n",
    "N_CLASSES = 10\n",
    "batch_size = 50\n",
    "n_epochs = 80"
   ]
  },
  {
   "cell_type": "code",
   "execution_count": 161,
   "metadata": {},
   "outputs": [],
   "source": [
    "model = keras.models.Sequential()"
   ]
  },
  {
   "cell_type": "code",
   "execution_count": 162,
   "metadata": {},
   "outputs": [],
   "source": [
    "## flatten layer\n",
    "model.add(keras.layers.Flatten())\n",
    "\n",
    "## full-connected layer 1\n",
    "model.add(keras.layers.Dense(128, activation='relu'))\n",
    "\n",
    "## full-connected layer 2\n",
    "model.add(keras.layers.Dense(128, activation='relu'))\n",
    "\n",
    "## full-connected layer 3\n",
    "model.add(keras.layers.Dense(64, activation='relu'))\n",
    "\n",
    "## output layer\n",
    "model.add(keras.layers.Dense(N_CLASSES, activation='softmax'))"
   ]
  },
  {
   "cell_type": "code",
   "execution_count": 164,
   "metadata": {},
   "outputs": [
    {
     "name": "stdout",
     "output_type": "stream",
     "text": [
      "Epoch 1/80\n",
      "50000/50000 [==============================] - 6s 129us/step - loss: 0.7004 - acc: 0.7584\n",
      "Epoch 2/80\n",
      "50000/50000 [==============================] - 6s 128us/step - loss: 0.4656 - acc: 0.8385\n",
      "Epoch 3/80\n",
      "50000/50000 [==============================] - 7s 131us/step - loss: 0.4109 - acc: 0.8567\n",
      "Epoch 4/80\n",
      "50000/50000 [==============================] - 6s 128us/step - loss: 0.3735 - acc: 0.8688\n",
      "Epoch 5/80\n",
      "50000/50000 [==============================] - 6s 126us/step - loss: 0.3416 - acc: 0.8808\n",
      "Epoch 6/80\n",
      "50000/50000 [==============================] - 6s 126us/step - loss: 0.3122 - acc: 0.8913\n",
      "Epoch 7/80\n",
      "50000/50000 [==============================] - 6s 129us/step - loss: 0.2847 - acc: 0.9008\n",
      "Epoch 8/80\n",
      "50000/50000 [==============================] - 6s 130us/step - loss: 0.2634 - acc: 0.9082\n",
      "Epoch 9/80\n",
      "50000/50000 [==============================] - 6s 125us/step - loss: 0.2395 - acc: 0.9163\n",
      "Epoch 10/80\n",
      "50000/50000 [==============================] - 6s 122us/step - loss: 0.2213 - acc: 0.9226\n",
      "Epoch 11/80\n",
      "50000/50000 [==============================] - 6s 129us/step - loss: 0.1973 - acc: 0.9315\n",
      "Epoch 12/80\n",
      "50000/50000 [==============================] - 6s 123us/step - loss: 0.1805 - acc: 0.9379\n",
      "Epoch 13/80\n",
      "50000/50000 [==============================] - 6s 119us/step - loss: 0.1609 - acc: 0.9449\n",
      "Epoch 14/80\n",
      "50000/50000 [==============================] - 6s 123us/step - loss: 0.1433 - acc: 0.9509\n",
      "Epoch 15/80\n",
      "50000/50000 [==============================] - 6s 128us/step - loss: 0.1269 - acc: 0.9566\n",
      "Epoch 16/80\n",
      "50000/50000 [==============================] - 6s 125us/step - loss: 0.1108 - acc: 0.9624\n",
      "Epoch 17/80\n",
      "50000/50000 [==============================] - 7s 134us/step - loss: 0.0975 - acc: 0.9681\n",
      "Epoch 18/80\n",
      "50000/50000 [==============================] - 6s 127us/step - loss: 0.0857 - acc: 0.9711\n",
      "Epoch 19/80\n",
      "50000/50000 [==============================] - 6s 130us/step - loss: 0.0748 - acc: 0.9753\n",
      "Epoch 20/80\n",
      "50000/50000 [==============================] - 6s 124us/step - loss: 0.0675 - acc: 0.9782\n",
      "Epoch 21/80\n",
      "50000/50000 [==============================] - 6s 121us/step - loss: 0.0566 - acc: 0.9823\n",
      "Epoch 22/80\n",
      "50000/50000 [==============================] - 6s 127us/step - loss: 0.0529 - acc: 0.9828\n",
      "Epoch 23/80\n",
      "50000/50000 [==============================] - 6s 129us/step - loss: 0.0444 - acc: 0.9860\n",
      "Epoch 24/80\n",
      "50000/50000 [==============================] - 6s 127us/step - loss: 0.0411 - acc: 0.9868\n",
      "Epoch 25/80\n",
      "47550/50000 [===========================>..] - ETA: 0s - loss: 0.0366 - acc: 0.9895"
     ]
    },
    {
     "name": "stderr",
     "output_type": "stream",
     "text": [
      "IOPub message rate exceeded.\n",
      "The notebook server will temporarily stop sending output\n",
      "to the client in order to avoid crashing it.\n",
      "To change this limit, set the config variable\n",
      "`--NotebookApp.iopub_msg_rate_limit`.\n",
      "\n",
      "Current values:\n",
      "NotebookApp.iopub_msg_rate_limit=1000.0 (msgs/sec)\n",
      "NotebookApp.rate_limit_window=3.0 (secs)\n",
      "\n"
     ]
    }
   ],
   "source": [
    "model.compile(loss='categorical_crossentropy',\n",
    "              optimizer=keras.optimizers.Adam(lr=0.0002, beta_1=0.9, beta_2=0.999, epsilon=1e-08, decay=0.0, amsgrad=False),\n",
    "              metrics=['accuracy'])\n",
    "\n",
    "history = model.fit(X_train, y_train,\n",
    "                    epochs=n_epochs,\n",
    "                    batch_size=batch_size\n",
    "                    )"
   ]
  },
  {
   "cell_type": "code",
   "execution_count": 165,
   "metadata": {},
   "outputs": [],
   "source": [
    "y_test = model.predict(X_test)"
   ]
  },
  {
   "cell_type": "code",
   "execution_count": 166,
   "metadata": {},
   "outputs": [
    {
     "data": {
      "text/plain": [
       "array([7, 9, 3, ..., 9, 4, 5])"
      ]
     },
     "execution_count": 166,
     "metadata": {},
     "output_type": "execute_result"
    }
   ],
   "source": [
    "np.argmax(y_test,axis=1)"
   ]
  },
  {
   "cell_type": "code",
   "execution_count": 167,
   "metadata": {},
   "outputs": [
    {
     "name": "stdout",
     "output_type": "stream",
     "text": [
      "==================\n",
      "Your score:  1.0015934138892577\n",
      "==================\n"
     ]
    }
   ],
   "source": [
    "# predicted_classes = return [0]*len(validation_images)\n",
    "\n",
    "grader.score('tf__transfer_learning', list(np.argmax(y_test,axis=1)))"
   ]
  },
  {
   "cell_type": "markdown",
   "metadata": {},
   "source": [
    "*Copyright &copy; 2019 The Data Incubator.  All rights reserved.*"
   ]
  }
 ],
 "metadata": {
  "kernelspec": {
   "display_name": "Python 3",
   "language": "python",
   "name": "python3"
  },
  "language_info": {
   "codemirror_mode": {
    "name": "ipython",
    "version": 3
   },
   "file_extension": ".py",
   "mimetype": "text/x-python",
   "name": "python",
   "nbconvert_exporter": "python",
   "pygments_lexer": "ipython3",
   "version": "3.6.2"
  },
  "nbclean": true
 },
 "nbformat": 4,
 "nbformat_minor": 1
}
